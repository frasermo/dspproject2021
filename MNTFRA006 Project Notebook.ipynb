{
 "cells": [
  {
   "cell_type": "markdown",
   "metadata": {},
   "source": [
    "### EEE4114F PROJECT ML\n",
    "Name: Fraser Montandon \n",
    "\n",
    "Student number: MNTFRA006 "
   ]
  },
  {
   "cell_type": "markdown",
   "metadata": {},
   "source": [
    "Acknowledgement: J Son - Lab 2 training code used in preparation of this notebook."
   ]
  },
  {
   "cell_type": "code",
   "execution_count": 1,
   "metadata": {},
   "outputs": [],
   "source": [
    "from pathlib import Path\n",
    "import pandas as pd\n",
    "import numpy as np\n",
    "import matplotlib.pyplot as plt\n",
    "from sklearn.model_selection import train_test_split\n",
    "from sklearn.preprocessing import MinMaxScaler, StandardScaler\n",
    "from sklearn.preprocessing import LabelEncoder\n",
    "import torch\n",
    "import torch.nn as nn\n",
    "import torch.nn.functional as F\n",
    "import torchvision\n",
    "import torchvision.transforms as transforms\n",
    "import torch.optim as optim\n",
    "import matplotlib.pyplot as plt\n",
    "from torch.utils.data import Dataset, DataLoader\n",
    "from torch.utils.data import SubsetRandomSampler\n",
    "from PIL import Image\n",
    "from matplotlib import image\n",
    "from os import listdir\n",
    "from numpy import asarray\n",
    "import numpy.testing as npt\n",
    "from skimage.util import img_as_float\n",
    "import csv\n",
    "import cv2\n",
    "import glob"
   ]
  },
  {
   "cell_type": "markdown",
   "metadata": {},
   "source": [
    "# Load data into numpy arrays\n",
    "\n"
   ]
  },
  {
   "cell_type": "code",
   "execution_count": 2,
   "metadata": {},
   "outputs": [],
   "source": [
    "dataset_dir = Path.cwd() / \"shapessampledataset\" \n",
    "\n",
    "# read in csv label file\n",
    "with open(\"shapes.csv\",'rt') as file_name:\n",
    "    file_read = csv.reader(file_name)\n",
    "    array = list(file_read)\n",
    "\n",
    "y_train = np.array(array)\n",
    "y_train = y_train.flatten()\n",
    "\n",
    "# read in images\n",
    "list_of_pics = list()\n",
    "for i in range(1,104):\n",
    "    image=Image.open(dataset_dir/(str(i)+'.jpg')).convert(\"L\")\n",
    "    list_of_pics.append(np.asarray(image))\n",
    "x_train = np.array(list_of_pics)\n",
    "\n",
    "#print(y_train)\n",
    "#print(numpydata)"
   ]
  },
  {
   "cell_type": "code",
   "execution_count": 3,
   "metadata": {},
   "outputs": [
    {
     "data": {
      "image/png": "[encoded data removed]",
      "text/plain": [
       "<Figure size 576x576 with 8 Axes>"
      ]
     },
     "metadata": {
      "needs_background": "light"
     },
     "output_type": "display_data"
    }
   ],
   "source": [
    "from pathlib import Path\n",
    "import random\n",
    "\n",
    "# Test to view image\n",
    "fig, axes = plt.subplots(2, 2, figsize=(8,8))\n",
    "fig.subplots_adjust(wspace=0.4)\n",
    "axes = axes.ravel()\n",
    "\n",
    "for i in range(4):\n",
    "    img = axes[i].imshow(x_train[i], cmap='gray', origin='lower')\n",
    "    axes[i].set_xlabel(y_train[i])\n",
    "    fig.colorbar(img, ax=axes[i], fraction=0.046, pad=0.02)\n",
    "\n",
    "plt.show()\n",
    "\n"
   ]
  },
  {
   "cell_type": "code",
   "execution_count": 4,
   "metadata": {},
   "outputs": [],
   "source": [
    "# Data split\n",
    "\n",
    "x_train, x_val, y_train, y_val = train_test_split(x_train, y_train, test_size = 0.1, shuffle = True)\n"
   ]
  },
  {
   "cell_type": "markdown",
   "metadata": {},
   "source": [
    "\n"
   ]
  },
  {
   "cell_type": "code",
   "execution_count": 5,
   "metadata": {},
   "outputs": [],
   "source": [
    "# Create SHAPES custom dataset loader\n",
    "\n",
    "class SHAPES(Dataset):\n",
    "    def __init__(self, data, targets, transform=None):\n",
    "        self.data = data\n",
    "        self.transform = transform\n",
    "        self.enc = LabelEncoder()\n",
    "        targets = self.enc.fit_transform(targets.reshape(-1,))\n",
    "        self.targets = torch.LongTensor(targets)\n",
    "        \n",
    "    def __getitem__(self, index):\n",
    "        if torch.is_tensor(index):\n",
    "            index = int(index.item())\n",
    "            \n",
    "        x = self.data[index]\n",
    "        y = self.targets[index]\n",
    "\n",
    "        if self.transform:\n",
    "            x = Image.fromarray(self.data[index])\n",
    "            x = self.transform(x)\n",
    "\n",
    "        return x, y\n",
    "\n",
    "    def __len__(self):\n",
    "        return len(self.data)"
   ]
  },
  {
   "cell_type": "code",
   "execution_count": 6,
   "metadata": {},
   "outputs": [],
   "source": [
    "# Data scaling from grayscale JPEG 8-bit to value between 0 and 1\n",
    "\n",
    "scaler = MinMaxScaler()\n",
    "x_train_shape = x_train.shape\n",
    "x_val_shape = x_val.shape\n",
    "\n",
    "# Scale, fit and transform training data\n",
    "x_train = scaler.fit_transform(x_train.reshape(-1,1))\n",
    "x_train = x_train.reshape(x_train_shape)\n",
    "\n",
    "# transform evaluation sets\n",
    "x_val = scaler.transform(x_val.reshape(-1,1))\n",
    "x_val = x_val.reshape(x_val_shape)\n"
   ]
  },
  {
   "cell_type": "code",
   "execution_count": 7,
   "metadata": {},
   "outputs": [],
   "source": [
    "# Setup Dataloaders \n",
    "BATCH_SIZE = 5 # Define batch size \n",
    "transform = transforms.Compose(\n",
    "    [\n",
    "     transforms.ToTensor()\n",
    "    ])\n",
    "\n",
    "# define datasets\n",
    "train_dataset = SHAPES(x_train, y_train, transform=transform)\n",
    "val_dataset = SHAPES(x_val,y_val, transform = transform)\n",
    "\n",
    "# define dataloader\n",
    "train_loader = DataLoader(train_dataset, batch_size = BATCH_SIZE)\n",
    "\n",
    "# define evaluation data\n",
    "val_loader = DataLoader(val_dataset, batch_size=len(val_dataset))\n"
   ]
  },
  {
   "cell_type": "markdown",
   "metadata": {},
   "source": [
    "\n"
   ]
  },
  {
   "cell_type": "code",
   "execution_count": null,
   "metadata": {},
   "outputs": [],
   "source": []
  },
  {
   "cell_type": "code",
   "execution_count": 8,
   "metadata": {},
   "outputs": [],
   "source": [
    "# Define net architecture CNN\n",
    "class Net(nn.Module):\n",
    "    def __init__(self):\n",
    "        super(Net, self).__init__()\n",
    "\n",
    "        # 1st convolutional layer, 1 channel, 6 feature maps, 5x5    \n",
    "        self.conv1 = nn.Conv2d(1,6,5)\n",
    "        \n",
    "        # Defining 2x2 2d max pool\n",
    "        self.pool = nn.MaxPool2d(2,2)\n",
    "        \n",
    "        # Define 2nd convolutional layer, 6 channel, 16 feature maps, 5x5\n",
    "        self.conv2 = nn.Conv2d(6,16,5)\n",
    "        \n",
    "        self.fc1 = nn.Linear(16*5*5,120)\n",
    "        self.fc2 = nn.Linear(120, 84)\n",
    "        self.fc3 = nn.Linear(84 ,5)\n",
    "      \n",
    "\n",
    "    def forward(self, x):\n",
    "        # Here you can define your forward pass e.g.\n",
    "        x = self.pool(F.relu(self.conv1(x)))\n",
    "        x = self.pool(F.relu(self.conv2(x)))\n",
    "        \n",
    "        # Flatten output from convolutional layer\n",
    "        x = x.view(x.size(0), -1)\n",
    "        x = F.relu(self.fc1(x))\n",
    "        x = F.relu(self.fc2(x))\n",
    "        \n",
    "        x = self.fc3(x)\n",
    "        return x"
   ]
  },
  {
   "cell_type": "markdown",
   "metadata": {},
   "source": [
    "Once the architecture has been defined you can create a model with it."
   ]
  },
  {
   "cell_type": "code",
   "execution_count": 9,
   "metadata": {},
   "outputs": [
    {
     "name": "stdout",
     "output_type": "stream",
     "text": [
      "Net(\n",
      "  (conv1): Conv2d(1, 6, kernel_size=(5, 5), stride=(1, 1))\n",
      "  (pool): MaxPool2d(kernel_size=2, stride=2, padding=0, dilation=1, ceil_mode=False)\n",
      "  (conv2): Conv2d(6, 16, kernel_size=(5, 5), stride=(1, 1))\n",
      "  (fc1): Linear(in_features=400, out_features=120, bias=True)\n",
      "  (fc2): Linear(in_features=120, out_features=84, bias=True)\n",
      "  (fc3): Linear(in_features=84, out_features=5, bias=True)\n",
      ")\n"
     ]
    }
   ],
   "source": [
    "model = Net()\n",
    "print(model)"
   ]
  },
  {
   "cell_type": "code",
   "execution_count": 10,
   "metadata": {},
   "outputs": [],
   "source": [
    "# Loss function\n",
    "criterion = nn.CrossEntropyLoss()\n",
    "optimizer = optim.Adam(model.parameters(), lr=0.001)"
   ]
  },
  {
   "cell_type": "markdown",
   "metadata": {},
   "source": []
  },
  {
   "cell_type": "code",
   "execution_count": 11,
   "metadata": {},
   "outputs": [],
   "source": [
    "def evaluate(model, loader):\n",
    "    model.eval()\n",
    "    correct = 0\n",
    "    total = 0\n",
    "    running_loss = 0.0 \n",
    "    with torch.no_grad():\n",
    "        for data in loader:\n",
    "            inputs, labels = data\n",
    "            outputs = model(inputs)\n",
    "            loss = criterion(outputs, labels)\n",
    "            _, predicted = torch.max(outputs.data, 1)\n",
    "            total += labels.size(0)\n",
    "            correct += (predicted == labels).sum().item()\n",
    "            \n",
    "            running_loss += loss.item()\n",
    "        \n",
    "    # Return mean loss, accuracy\n",
    "    return running_loss / len(loader), correct / total"
   ]
  },
  {
   "cell_type": "code",
   "execution_count": 12,
   "metadata": {
    "scrolled": false
   },
   "outputs": [
    {
     "name": "stdout",
     "output_type": "stream",
     "text": [
      "Starting Epoch: 1\n",
      "# mini-batch 10\n",
      "train loss: 1.6158653855323792 train accuracy: 0.2\n",
      "validation loss: 1.5898388624191284 validation accuracy: 0.2727272727272727\n",
      "\n"
     ]
    },
    {
     "name": "stderr",
     "output_type": "stream",
     "text": [
      "/Users/frasermontandon/opt/anaconda3/lib/python3.7/site-packages/torchvision/transforms/functional.py:92: UserWarning: The given NumPy array is not writeable, and PyTorch does not support non-writeable tensors. This means you can write to the underlying (supposedly non-writeable) NumPy array using the tensor. You may want to copy the array to protect its data or make it writeable before converting it to a tensor. This type of warning will be suppressed for the rest of this program. (Triggered internally at  /Users/distiller/project/conda/conda-bld/pytorch_1607370126481/work/torch/csrc/utils/tensor_numpy.cpp:141.)\n",
      "  img = torch.from_numpy(np.array(pic, np.float32, copy=False))\n"
     ]
    },
    {
     "name": "stdout",
     "output_type": "stream",
     "text": [
      "Starting Epoch: 2\n",
      "# mini-batch 10\n",
      "train loss: 3.049699378013611 train accuracy: 0.2\n",
      "validation loss: 1.5889973640441895 validation accuracy: 0.5454545454545454\n",
      "\n",
      "Starting Epoch: 3\n",
      "# mini-batch 10\n",
      "train loss: 2.963049602508545 train accuracy: 0.6\n",
      "validation loss: 1.4955605268478394 validation accuracy: 0.6363636363636364\n",
      "\n",
      "Starting Epoch: 4\n",
      "# mini-batch 10\n",
      "train loss: 2.5323531091213227 train accuracy: 0.8\n",
      "validation loss: 1.048006534576416 validation accuracy: 0.7272727272727273\n",
      "\n",
      "Starting Epoch: 5\n",
      "# mini-batch 10\n",
      "train loss: 1.3522747606039047 train accuracy: 0.8\n",
      "validation loss: 0.43452927470207214 validation accuracy: 0.9090909090909091\n",
      "\n",
      "Starting Epoch: 6\n",
      "# mini-batch 10\n",
      "train loss: 0.698292725533247 train accuracy: 0.8\n",
      "validation loss: 0.5414796471595764 validation accuracy: 0.6363636363636364\n",
      "\n",
      "Starting Epoch: 7\n",
      "# mini-batch 10\n",
      "train loss: 0.7290093567222357 train accuracy: 1.0\n",
      "validation loss: 0.21980038285255432 validation accuracy: 1.0\n",
      "\n",
      "Starting Epoch: 8\n",
      "# mini-batch 10\n",
      "train loss: 0.3606872146949172 train accuracy: 0.8\n",
      "validation loss: 0.17948558926582336 validation accuracy: 0.9090909090909091\n",
      "\n",
      "Starting Epoch: 9\n",
      "# mini-batch 10\n",
      "train loss: 0.32080704245017844 train accuracy: 0.8\n",
      "validation loss: 0.08048322051763535 validation accuracy: 1.0\n",
      "\n",
      "Starting Epoch: 10\n",
      "# mini-batch 10\n",
      "train loss: 0.14429726167581974 train accuracy: 1.0\n",
      "validation loss: 0.08904615044593811 validation accuracy: 1.0\n",
      "\n",
      "Starting Epoch: 11\n",
      "# mini-batch 10\n",
      "train loss: 0.07446962878457271 train accuracy: 1.0\n",
      "validation loss: 0.032174017280340195 validation accuracy: 1.0\n",
      "\n",
      "Starting Epoch: 12\n",
      "# mini-batch 10\n",
      "train loss: 0.034080143447499725 train accuracy: 1.0\n",
      "validation loss: 0.05107259377837181 validation accuracy: 1.0\n",
      "\n",
      "Starting Epoch: 13\n",
      "# mini-batch 10\n",
      "train loss: 0.02327401103102602 train accuracy: 1.0\n",
      "validation loss: 0.026265759021043777 validation accuracy: 1.0\n",
      "\n",
      "Starting Epoch: 14\n",
      "# mini-batch 10\n",
      "train loss: 0.013718472488108091 train accuracy: 1.0\n",
      "validation loss: 0.025410611182451248 validation accuracy: 1.0\n",
      "\n",
      "Starting Epoch: 15\n",
      "# mini-batch 10\n",
      "train loss: 0.010552289489714895 train accuracy: 1.0\n",
      "validation loss: 0.02272295393049717 validation accuracy: 1.0\n",
      "\n",
      "Starting Epoch: 16\n",
      "# mini-batch 10\n",
      "train loss: 0.007839776686159894 train accuracy: 1.0\n",
      "validation loss: 0.019140014424920082 validation accuracy: 1.0\n",
      "\n",
      "Starting Epoch: 17\n",
      "# mini-batch 10\n",
      "train loss: 0.006298890378820943 train accuracy: 1.0\n",
      "validation loss: 0.017641883343458176 validation accuracy: 1.0\n",
      "\n",
      "Starting Epoch: 18\n",
      "# mini-batch 10\n",
      "train loss: 0.004999003899138188 train accuracy: 1.0\n",
      "validation loss: 0.015367383137345314 validation accuracy: 1.0\n",
      "\n",
      "Starting Epoch: 19\n",
      "# mini-batch 10\n",
      "train loss: 0.004124864024925045 train accuracy: 1.0\n",
      "validation loss: 0.0134540731087327 validation accuracy: 1.0\n",
      "\n",
      "Starting Epoch: 20\n",
      "# mini-batch 10\n",
      "train loss: 0.0034415958522004074 train accuracy: 1.0\n",
      "validation loss: 0.012510373257100582 validation accuracy: 1.0\n",
      "\n",
      "Starting Epoch: 21\n",
      "# mini-batch 10\n",
      "train loss: 0.0029464407722116447 train accuracy: 1.0\n",
      "validation loss: 0.010944338515400887 validation accuracy: 1.0\n",
      "\n",
      "Starting Epoch: 22\n",
      "# mini-batch 10\n",
      "train loss: 0.002525458319723839 train accuracy: 1.0\n",
      "validation loss: 0.009745621122419834 validation accuracy: 1.0\n",
      "\n",
      "Starting Epoch: 23\n",
      "# mini-batch 10\n",
      "train loss: 0.0021784342163300606 train accuracy: 1.0\n",
      "validation loss: 0.008771615102887154 validation accuracy: 1.0\n",
      "\n",
      "Starting Epoch: 24\n",
      "# mini-batch 10\n",
      "train loss: 0.001910404303271207 train accuracy: 1.0\n",
      "validation loss: 0.008185484446585178 validation accuracy: 1.0\n",
      "\n",
      "Starting Epoch: 25\n",
      "# mini-batch 10\n",
      "train loss: 0.0016710238978703273 train accuracy: 1.0\n",
      "validation loss: 0.007380301132798195 validation accuracy: 1.0\n",
      "\n",
      "Starting Epoch: 26\n",
      "# mini-batch 10\n",
      "train loss: 0.001484112161779194 train accuracy: 1.0\n",
      "validation loss: 0.006722733378410339 validation accuracy: 1.0\n",
      "\n",
      "Starting Epoch: 27\n",
      "# mini-batch 10\n",
      "train loss: 0.0013186549538659164 train accuracy: 1.0\n",
      "validation loss: 0.006182566750794649 validation accuracy: 1.0\n",
      "\n",
      "Starting Epoch: 28\n",
      "# mini-batch 10\n",
      "train loss: 0.0011803987567873264 train accuracy: 1.0\n",
      "validation loss: 0.005678195971995592 validation accuracy: 1.0\n",
      "\n",
      "Starting Epoch: 29\n",
      "# mini-batch 10\n",
      "train loss: 0.0010612042104185093 train accuracy: 1.0\n",
      "validation loss: 0.0052724070847034454 validation accuracy: 1.0\n",
      "\n",
      "Starting Epoch: 30\n",
      "# mini-batch 10\n",
      "train loss: 0.0009553933498864353 train accuracy: 1.0\n",
      "validation loss: 0.004839942324906588 validation accuracy: 1.0\n",
      "\n",
      "Starting Epoch: 31\n",
      "# mini-batch 10\n",
      "train loss: 0.0008684312591867638 train accuracy: 1.0\n",
      "validation loss: 0.004421653226017952 validation accuracy: 1.0\n",
      "\n",
      "Starting Epoch: 32\n",
      "# mini-batch 10\n",
      "train loss: 0.0007885304617957445 train accuracy: 1.0\n",
      "validation loss: 0.004125373438000679 validation accuracy: 1.0\n",
      "\n",
      "Starting Epoch: 33\n",
      "# mini-batch 10\n",
      "train loss: 0.0007187388455349719 train accuracy: 1.0\n",
      "validation loss: 0.0038811424747109413 validation accuracy: 1.0\n",
      "\n",
      "Starting Epoch: 34\n",
      "# mini-batch 10\n",
      "train loss: 0.0006598286827284028 train accuracy: 1.0\n",
      "validation loss: 0.003566860919818282 validation accuracy: 1.0\n",
      "\n",
      "Starting Epoch: 35\n",
      "# mini-batch 10\n",
      "train loss: 0.0006046235507710662 train accuracy: 1.0\n",
      "validation loss: 0.0033383918926119804 validation accuracy: 1.0\n",
      "\n",
      "Starting Epoch: 36\n",
      "# mini-batch 10\n",
      "train loss: 0.0005576015388669475 train accuracy: 1.0\n",
      "validation loss: 0.0031243101693689823 validation accuracy: 1.0\n",
      "\n",
      "Starting Epoch: 37\n",
      "# mini-batch 10\n",
      "train loss: 0.0005141660902154399 train accuracy: 1.0\n",
      "validation loss: 0.0029555102810263634 validation accuracy: 1.0\n",
      "\n",
      "Starting Epoch: 38\n",
      "# mini-batch 10\n",
      "train loss: 0.0004766005049532396 train accuracy: 1.0\n",
      "validation loss: 0.0027411538176238537 validation accuracy: 1.0\n",
      "\n",
      "Starting Epoch: 39\n",
      "# mini-batch 10\n",
      "train loss: 0.00044112564137321897 train accuracy: 1.0\n",
      "validation loss: 0.002619020640850067 validation accuracy: 1.0\n",
      "\n",
      "Starting Epoch: 40\n",
      "# mini-batch 10\n",
      "train loss: 0.00041105214486378825 train accuracy: 1.0\n",
      "validation loss: 0.002458354691043496 validation accuracy: 1.0\n",
      "\n",
      "Finished Training\n"
     ]
    }
   ],
   "source": [
    "# Training\n",
    "\n",
    "history ={\n",
    "    'train_loss': [],\n",
    "    'train_acc': [],\n",
    "    'val_loss': [],\n",
    "    'val_acc': [],\n",
    "    \n",
    "}\n",
    "\n",
    "running_loss = 0.0\n",
    "total = 0.0\n",
    "MAX_EPOCHS = 40\n",
    "\n",
    "for epoch in range(MAX_EPOCHS):  # iterate through data set MAX_EPOCH number of times\n",
    "    print(\"Starting Epoch: {}\".format(epoch+1))    \n",
    "    for i, data in enumerate(train_loader, 0):\n",
    "        model.train()\n",
    "        \n",
    "        # retrieve inputs\n",
    "        inputs, labels = data\n",
    "        \n",
    "        # reset grad to 0 \n",
    "        optimizer.zero_grad() \n",
    "        \n",
    "        # forward + backward + optimize\n",
    "        outputs = model(inputs)\n",
    "        loss = criterion(outputs,labels)\n",
    "        loss.backward()\n",
    "        optimizer.step()\n",
    "        \n",
    "        # keep record of loss across mini-batches until logged\n",
    "        running_loss += loss.item()\n",
    "        #correct= 0\n",
    "        # record results\n",
    "        \n",
    "        if i % 10 ==9: # log every 10 mini-batches\n",
    "            mean_loss = running_loss / 10\n",
    "            \n",
    "            #-, \n",
    "            _, predicted = torch.max(outputs.data,1)\n",
    "            correct = (predicted == labels).sum().item()\n",
    "            train_acc = correct / labels.size(0)\n",
    "            history['train_loss'].append(mean_loss)\n",
    "            history['train_acc'].append(train_acc)\n",
    "            \n",
    "            print('# mini-batch {}\\ntrain loss: {} train accuracy: {}'.format(i + 1, mean_loss, train_acc))\n",
    "            running_loss = 0.0\n",
    "            \n",
    "            # evaluate on validation dataset\n",
    "            mean_loss, val_acc = evaluate(model, val_loader)\n",
    "            history['val_loss'].append(mean_loss)\n",
    "            history['val_acc'].append(val_acc)\n",
    "                    \n",
    "            print(\"validation loss: {} validation accuracy: {}\\n\".format(mean_loss,val_acc))\n",
    "            \n",
    "print('Finished Training')\n"
   ]
  },
  {
   "cell_type": "code",
   "execution_count": 13,
   "metadata": {},
   "outputs": [
    {
     "data": {
      "image/png": "[encoded data removed]",
      "text/plain": [
       "<Figure size 576x576 with 1 Axes>"
      ]
     },
     "metadata": {
      "needs_background": "light"
     },
     "output_type": "display_data"
    }
   ],
   "source": [
    "# Plots\n",
    "fig = plt.figure(figsize=(8,8))\n",
    "plt.plot(history['train_loss'], label = 'train_loss')\n",
    "plt.plot(history['val_loss'], label = 'val_loss')\n",
    "plt.xlabel(\"Logging iterations\")\n",
    "plt.ylabel(\" Cross-entropy Loss\")\n",
    "plt.title(\"Cross-entropy loss vs Logging iterations\")\n",
    "plt.legend()\n",
    "plt.show()\n"
   ]
  },
  {
   "cell_type": "code",
   "execution_count": 14,
   "metadata": {},
   "outputs": [
    {
     "data": {
      "image/png": "[encoded data removed]",
      "text/plain": [
       "<Figure size 576x576 with 1 Axes>"
      ]
     },
     "metadata": {
      "needs_background": "light"
     },
     "output_type": "display_data"
    }
   ],
   "source": [
    "# Accuracy Plots\n",
    "\n",
    "fig = plt.figure(figsize = (8,8))\n",
    "plt.plot(history['train_acc'], label = 'train_acc')\n",
    "plt.plot(history['val_acc'], label = 'val_acc')\n",
    "plt.xlabel(\"Logging iterations\")\n",
    "plt.ylabel(\"Accuracy\")\n",
    "plt.legend()\n",
    "plt.title(\"Accuracy vs Logging iterations\")\n",
    "plt.show()"
   ]
  },
  {
   "cell_type": "markdown",
   "metadata": {},
   "source": [
    "\n"
   ]
  },
  {
   "cell_type": "markdown",
   "metadata": {},
   "source": [
    "\n"
   ]
  },
  {
   "cell_type": "code",
   "execution_count": 15,
   "metadata": {},
   "outputs": [
    {
     "data": {
      "image/png": "[encoded data removed]",
      "text/plain": [
       "<Figure size 720x720 with 2 Axes>"
      ]
     },
     "metadata": {
      "needs_background": "light"
     },
     "output_type": "display_data"
    }
   ],
   "source": [
    "# Confusion matrix\n",
    "\n",
    "from sklearn.metrics import confusion_matrix\n",
    "\n",
    "# set loader\n",
    "it = iter(val_loader) \n",
    "\n",
    "x, y = next(it)\n",
    "\n",
    "outputs = model(x)\n",
    "_, y_pred = torch.max(outputs, 1)\n",
    "\n",
    "np.set_printoptions(precision=4)\n",
    "plt.figure(figsize = (10,10))\n",
    "cm = confusion_matrix(y.numpy(), y_pred.numpy(), normalize=\"true\")\n",
    "plt.matshow(cm, fignum=1)\n",
    "\n",
    "for (i, j), z in np.ndenumerate(cm):\n",
    "    plt.text(j, i, '{:0.3f}'.format(z), ha='center', va='center')\n",
    "    \n",
    "plt.xticks(range(5))\n",
    "plt.yticks(range(5))\n",
    "plt.xlabel(\"Prediction\")\n",
    "plt.ylabel(\"True\")\n",
    "\n",
    "# Data labels\n",
    "classes = train_dataset.enc.classes_.tolist()\n",
    "plt.gca().set_xticklabels(classes)\n",
    "plt.gca().set_yticklabels(classes)\n",
    "\n",
    "plt.title(\"Normalized Confusion Matrix\")\n",
    "plt.colorbar()\n",
    "plt.show()"
   ]
  },
  {
   "cell_type": "markdown",
   "metadata": {},
   "source": []
  },
  {
   "cell_type": "markdown",
   "metadata": {},
   "source": [
    "\n",
    "\n"
   ]
  },
  {
   "cell_type": "markdown",
   "metadata": {},
   "source": []
  }
 ],
 "metadata": {
  "@webio": {
   "lastCommId": null,
   "lastKernelId": null
  },
  "kernelspec": {
   "display_name": "Python 3",
   "language": "python",
   "name": "python3"
  },
  "language_info": {
   "codemirror_mode": {
    "name": "ipython",
    "version": 3
   },
   "file_extension": ".py",
   "mimetype": "text/x-python",
   "name": "python",
   "nbconvert_exporter": "python",
   "pygments_lexer": "ipython3",
   "version": "3.7.6"
  }
 },
 "nbformat": 4,
 "nbformat_minor": 4
}
